{
 "cells": [
  {
   "cell_type": "code",
   "execution_count": 4,
   "id": "870b4735",
   "metadata": {},
   "outputs": [],
   "source": [
    "import numpy as np \n",
    "import pandas as pd"
   ]
  },
  {
   "cell_type": "code",
   "execution_count": 5,
   "id": "e8475962",
   "metadata": {},
   "outputs": [],
   "source": [
    "# Load data\n",
    "df = pd.read_csv(\"iris.csv\")"
   ]
  },
  {
   "cell_type": "markdown",
   "id": "27206ab2",
   "metadata": {},
   "source": [
    "# Expolatary Data Analysis"
   ]
  },
  {
   "cell_type": "markdown",
   "id": "f342182e",
   "metadata": {},
   "source": [
    "About the data A method for analysing data utilising certain visual techniques is called exploratory data analysis (EDA). We are able to obtain comprehensive details on the data's statistical summary by using this method. Along with handling duplicate numbers and outliers, we will also be able to identify any trends or patterns in the collection."
   ]
  },
  {
   "cell_type": "code",
   "execution_count": 8,
   "id": "e7e6bb48",
   "metadata": {},
   "outputs": [
    {
     "data": {
      "text/html": [
       "<div>\n",
       "<style scoped>\n",
       "    .dataframe tbody tr th:only-of-type {\n",
       "        vertical-align: middle;\n",
       "    }\n",
       "\n",
       "    .dataframe tbody tr th {\n",
       "        vertical-align: top;\n",
       "    }\n",
       "\n",
       "    .dataframe thead th {\n",
       "        text-align: right;\n",
       "    }\n",
       "</style>\n",
       "<table border=\"1\" class=\"dataframe\">\n",
       "  <thead>\n",
       "    <tr style=\"text-align: right;\">\n",
       "      <th></th>\n",
       "      <th>Id</th>\n",
       "      <th>SepalLengthCm</th>\n",
       "      <th>SepalWidthCm</th>\n",
       "      <th>PetalLengthCm</th>\n",
       "      <th>PetalWidthCm</th>\n",
       "      <th>Species</th>\n",
       "    </tr>\n",
       "  </thead>\n",
       "  <tbody>\n",
       "    <tr>\n",
       "      <th>0</th>\n",
       "      <td>1</td>\n",
       "      <td>5.1</td>\n",
       "      <td>3.5</td>\n",
       "      <td>1.4</td>\n",
       "      <td>0.2</td>\n",
       "      <td>Iris-setosa</td>\n",
       "    </tr>\n",
       "    <tr>\n",
       "      <th>1</th>\n",
       "      <td>2</td>\n",
       "      <td>4.9</td>\n",
       "      <td>3.0</td>\n",
       "      <td>1.4</td>\n",
       "      <td>0.2</td>\n",
       "      <td>Iris-setosa</td>\n",
       "    </tr>\n",
       "    <tr>\n",
       "      <th>2</th>\n",
       "      <td>3</td>\n",
       "      <td>4.7</td>\n",
       "      <td>3.2</td>\n",
       "      <td>1.3</td>\n",
       "      <td>0.2</td>\n",
       "      <td>Iris-setosa</td>\n",
       "    </tr>\n",
       "    <tr>\n",
       "      <th>3</th>\n",
       "      <td>4</td>\n",
       "      <td>4.6</td>\n",
       "      <td>3.1</td>\n",
       "      <td>1.5</td>\n",
       "      <td>0.2</td>\n",
       "      <td>Iris-setosa</td>\n",
       "    </tr>\n",
       "    <tr>\n",
       "      <th>4</th>\n",
       "      <td>5</td>\n",
       "      <td>5.0</td>\n",
       "      <td>3.6</td>\n",
       "      <td>1.4</td>\n",
       "      <td>0.2</td>\n",
       "      <td>Iris-setosa</td>\n",
       "    </tr>\n",
       "    <tr>\n",
       "      <th>...</th>\n",
       "      <td>...</td>\n",
       "      <td>...</td>\n",
       "      <td>...</td>\n",
       "      <td>...</td>\n",
       "      <td>...</td>\n",
       "      <td>...</td>\n",
       "    </tr>\n",
       "    <tr>\n",
       "      <th>145</th>\n",
       "      <td>146</td>\n",
       "      <td>6.7</td>\n",
       "      <td>3.0</td>\n",
       "      <td>5.2</td>\n",
       "      <td>2.3</td>\n",
       "      <td>Iris-virginica</td>\n",
       "    </tr>\n",
       "    <tr>\n",
       "      <th>146</th>\n",
       "      <td>147</td>\n",
       "      <td>6.3</td>\n",
       "      <td>2.5</td>\n",
       "      <td>5.0</td>\n",
       "      <td>1.9</td>\n",
       "      <td>Iris-virginica</td>\n",
       "    </tr>\n",
       "    <tr>\n",
       "      <th>147</th>\n",
       "      <td>148</td>\n",
       "      <td>6.5</td>\n",
       "      <td>3.0</td>\n",
       "      <td>5.2</td>\n",
       "      <td>2.0</td>\n",
       "      <td>Iris-virginica</td>\n",
       "    </tr>\n",
       "    <tr>\n",
       "      <th>148</th>\n",
       "      <td>149</td>\n",
       "      <td>6.2</td>\n",
       "      <td>3.4</td>\n",
       "      <td>5.4</td>\n",
       "      <td>2.3</td>\n",
       "      <td>Iris-virginica</td>\n",
       "    </tr>\n",
       "    <tr>\n",
       "      <th>149</th>\n",
       "      <td>150</td>\n",
       "      <td>5.9</td>\n",
       "      <td>3.0</td>\n",
       "      <td>5.1</td>\n",
       "      <td>1.8</td>\n",
       "      <td>Iris-virginica</td>\n",
       "    </tr>\n",
       "  </tbody>\n",
       "</table>\n",
       "<p>150 rows × 6 columns</p>\n",
       "</div>"
      ],
      "text/plain": [
       "      Id  SepalLengthCm  SepalWidthCm  PetalLengthCm  PetalWidthCm  \\\n",
       "0      1            5.1           3.5            1.4           0.2   \n",
       "1      2            4.9           3.0            1.4           0.2   \n",
       "2      3            4.7           3.2            1.3           0.2   \n",
       "3      4            4.6           3.1            1.5           0.2   \n",
       "4      5            5.0           3.6            1.4           0.2   \n",
       "..   ...            ...           ...            ...           ...   \n",
       "145  146            6.7           3.0            5.2           2.3   \n",
       "146  147            6.3           2.5            5.0           1.9   \n",
       "147  148            6.5           3.0            5.2           2.0   \n",
       "148  149            6.2           3.4            5.4           2.3   \n",
       "149  150            5.9           3.0            5.1           1.8   \n",
       "\n",
       "            Species  \n",
       "0       Iris-setosa  \n",
       "1       Iris-setosa  \n",
       "2       Iris-setosa  \n",
       "3       Iris-setosa  \n",
       "4       Iris-setosa  \n",
       "..              ...  \n",
       "145  Iris-virginica  \n",
       "146  Iris-virginica  \n",
       "147  Iris-virginica  \n",
       "148  Iris-virginica  \n",
       "149  Iris-virginica  \n",
       "\n",
       "[150 rows x 6 columns]"
      ]
     },
     "execution_count": 8,
     "metadata": {},
     "output_type": "execute_result"
    }
   ],
   "source": [
    "#getting some top entries\n",
    "df"
   ]
  },
  {
   "cell_type": "markdown",
   "id": "7f2df5c5",
   "metadata": {},
   "source": [
    "here we get some top and bottom entries of data & \n",
    "we get to know that there are 150rowss and 6 coloumns"
   ]
  },
  {
   "cell_type": "code",
   "execution_count": 13,
   "id": "65b04861",
   "metadata": {},
   "outputs": [
    {
     "name": "stdout",
     "output_type": "stream",
     "text": [
      "   Id  SepalLengthCm  SepalWidthCm  PetalLengthCm  PetalWidthCm      Species\n",
      "0   1            5.1           3.5            1.4           0.2  Iris-setosa\n",
      "1   2            4.9           3.0            1.4           0.2  Iris-setosa\n",
      "2   3            4.7           3.2            1.3           0.2  Iris-setosa\n",
      "3   4            4.6           3.1            1.5           0.2  Iris-setosa\n",
      "4   5            5.0           3.6            1.4           0.2  Iris-setosa\n"
     ]
    },
    {
     "data": {
      "text/plain": [
       "(150, 6)"
      ]
     },
     "execution_count": 13,
     "metadata": {},
     "output_type": "execute_result"
    }
   ],
   "source": [
    "#to get top 5 entries only \n",
    "print(df.head())\n",
    "#to get the shape of data\n",
    "df.shape"
   ]
  },
  {
   "cell_type": "code",
   "execution_count": 19,
   "id": "06bd1505",
   "metadata": {},
   "outputs": [
    {
     "name": "stdout",
     "output_type": "stream",
     "text": [
      "<class 'pandas.core.frame.DataFrame'>\n",
      "RangeIndex: 150 entries, 0 to 149\n",
      "Data columns (total 6 columns):\n",
      " #   Column         Non-Null Count  Dtype  \n",
      "---  ------         --------------  -----  \n",
      " 0   Id             150 non-null    int64  \n",
      " 1   SepalLengthCm  150 non-null    float64\n",
      " 2   SepalWidthCm   150 non-null    float64\n",
      " 3   PetalLengthCm  150 non-null    float64\n",
      " 4   PetalWidthCm   150 non-null    float64\n",
      " 5   Species        150 non-null    object \n",
      "dtypes: float64(4), int64(1), object(1)\n",
      "memory usage: 7.2+ KB\n"
     ]
    },
    {
     "data": {
      "text/plain": [
       "Id               0\n",
       "SepalLengthCm    0\n",
       "SepalWidthCm     0\n",
       "PetalLengthCm    0\n",
       "PetalWidthCm     0\n",
       "Species          0\n",
       "dtype: int64"
      ]
     },
     "execution_count": 19,
     "metadata": {},
     "output_type": "execute_result"
    }
   ],
   "source": [
    "#to get the info about the coloumns of the data\n",
    "df.info()\n",
    "df.isnull().sum()"
   ]
  },
  {
   "cell_type": "markdown",
   "id": "cf8e7fc4",
   "metadata": {},
   "source": [
    "From above we get to know that data contain 6 coloumns 1)Id 2)SepalLength in cm 3)SepalWidth in cm 4)PeatlWidth in cm 5)Species and we also get that there are 150 non_null entries in each coloumn means there is no missing value in data and we get this from isnull function also\n"
   ]
  },
  {
   "cell_type": "code",
   "execution_count": 16,
   "id": "ae37cfa1",
   "metadata": {},
   "outputs": [
    {
     "data": {
      "text/html": [
       "<div>\n",
       "<style scoped>\n",
       "    .dataframe tbody tr th:only-of-type {\n",
       "        vertical-align: middle;\n",
       "    }\n",
       "\n",
       "    .dataframe tbody tr th {\n",
       "        vertical-align: top;\n",
       "    }\n",
       "\n",
       "    .dataframe thead th {\n",
       "        text-align: right;\n",
       "    }\n",
       "</style>\n",
       "<table border=\"1\" class=\"dataframe\">\n",
       "  <thead>\n",
       "    <tr style=\"text-align: right;\">\n",
       "      <th></th>\n",
       "      <th>Id</th>\n",
       "      <th>SepalLengthCm</th>\n",
       "      <th>SepalWidthCm</th>\n",
       "      <th>PetalLengthCm</th>\n",
       "      <th>PetalWidthCm</th>\n",
       "    </tr>\n",
       "  </thead>\n",
       "  <tbody>\n",
       "    <tr>\n",
       "      <th>count</th>\n",
       "      <td>150.000000</td>\n",
       "      <td>150.000000</td>\n",
       "      <td>150.000000</td>\n",
       "      <td>150.000000</td>\n",
       "      <td>150.000000</td>\n",
       "    </tr>\n",
       "    <tr>\n",
       "      <th>mean</th>\n",
       "      <td>75.500000</td>\n",
       "      <td>5.843333</td>\n",
       "      <td>3.054000</td>\n",
       "      <td>3.758667</td>\n",
       "      <td>1.198667</td>\n",
       "    </tr>\n",
       "    <tr>\n",
       "      <th>std</th>\n",
       "      <td>43.445368</td>\n",
       "      <td>0.828066</td>\n",
       "      <td>0.433594</td>\n",
       "      <td>1.764420</td>\n",
       "      <td>0.763161</td>\n",
       "    </tr>\n",
       "    <tr>\n",
       "      <th>min</th>\n",
       "      <td>1.000000</td>\n",
       "      <td>4.300000</td>\n",
       "      <td>2.000000</td>\n",
       "      <td>1.000000</td>\n",
       "      <td>0.100000</td>\n",
       "    </tr>\n",
       "    <tr>\n",
       "      <th>25%</th>\n",
       "      <td>38.250000</td>\n",
       "      <td>5.100000</td>\n",
       "      <td>2.800000</td>\n",
       "      <td>1.600000</td>\n",
       "      <td>0.300000</td>\n",
       "    </tr>\n",
       "    <tr>\n",
       "      <th>50%</th>\n",
       "      <td>75.500000</td>\n",
       "      <td>5.800000</td>\n",
       "      <td>3.000000</td>\n",
       "      <td>4.350000</td>\n",
       "      <td>1.300000</td>\n",
       "    </tr>\n",
       "    <tr>\n",
       "      <th>75%</th>\n",
       "      <td>112.750000</td>\n",
       "      <td>6.400000</td>\n",
       "      <td>3.300000</td>\n",
       "      <td>5.100000</td>\n",
       "      <td>1.800000</td>\n",
       "    </tr>\n",
       "    <tr>\n",
       "      <th>max</th>\n",
       "      <td>150.000000</td>\n",
       "      <td>7.900000</td>\n",
       "      <td>4.400000</td>\n",
       "      <td>6.900000</td>\n",
       "      <td>2.500000</td>\n",
       "    </tr>\n",
       "  </tbody>\n",
       "</table>\n",
       "</div>"
      ],
      "text/plain": [
       "               Id  SepalLengthCm  SepalWidthCm  PetalLengthCm  PetalWidthCm\n",
       "count  150.000000     150.000000    150.000000     150.000000    150.000000\n",
       "mean    75.500000       5.843333      3.054000       3.758667      1.198667\n",
       "std     43.445368       0.828066      0.433594       1.764420      0.763161\n",
       "min      1.000000       4.300000      2.000000       1.000000      0.100000\n",
       "25%     38.250000       5.100000      2.800000       1.600000      0.300000\n",
       "50%     75.500000       5.800000      3.000000       4.350000      1.300000\n",
       "75%    112.750000       6.400000      3.300000       5.100000      1.800000\n",
       "max    150.000000       7.900000      4.400000       6.900000      2.500000"
      ]
     },
     "execution_count": 16,
     "metadata": {},
     "output_type": "execute_result"
    }
   ],
   "source": [
    "#to get all statistical summary of the data\n",
    "df.describe()"
   ]
  },
  {
   "cell_type": "markdown",
   "id": "f693e248",
   "metadata": {},
   "source": [
    "We can see the count of each column along with their mean value, standard deviation, minimum and maximum values."
   ]
  },
  {
   "cell_type": "code",
   "execution_count": 21,
   "id": "d47766ca",
   "metadata": {},
   "outputs": [
    {
     "data": {
      "text/html": [
       "<div>\n",
       "<style scoped>\n",
       "    .dataframe tbody tr th:only-of-type {\n",
       "        vertical-align: middle;\n",
       "    }\n",
       "\n",
       "    .dataframe tbody tr th {\n",
       "        vertical-align: top;\n",
       "    }\n",
       "\n",
       "    .dataframe thead th {\n",
       "        text-align: right;\n",
       "    }\n",
       "</style>\n",
       "<table border=\"1\" class=\"dataframe\">\n",
       "  <thead>\n",
       "    <tr style=\"text-align: right;\">\n",
       "      <th></th>\n",
       "      <th>Id</th>\n",
       "      <th>SepalLengthCm</th>\n",
       "      <th>SepalWidthCm</th>\n",
       "      <th>PetalLengthCm</th>\n",
       "      <th>PetalWidthCm</th>\n",
       "      <th>Species</th>\n",
       "    </tr>\n",
       "  </thead>\n",
       "  <tbody>\n",
       "    <tr>\n",
       "      <th>0</th>\n",
       "      <td>1</td>\n",
       "      <td>5.1</td>\n",
       "      <td>3.5</td>\n",
       "      <td>1.4</td>\n",
       "      <td>0.2</td>\n",
       "      <td>Iris-setosa</td>\n",
       "    </tr>\n",
       "    <tr>\n",
       "      <th>50</th>\n",
       "      <td>51</td>\n",
       "      <td>7.0</td>\n",
       "      <td>3.2</td>\n",
       "      <td>4.7</td>\n",
       "      <td>1.4</td>\n",
       "      <td>Iris-versicolor</td>\n",
       "    </tr>\n",
       "    <tr>\n",
       "      <th>100</th>\n",
       "      <td>101</td>\n",
       "      <td>6.3</td>\n",
       "      <td>3.3</td>\n",
       "      <td>6.0</td>\n",
       "      <td>2.5</td>\n",
       "      <td>Iris-virginica</td>\n",
       "    </tr>\n",
       "  </tbody>\n",
       "</table>\n",
       "</div>"
      ],
      "text/plain": [
       "      Id  SepalLengthCm  SepalWidthCm  PetalLengthCm  PetalWidthCm  \\\n",
       "0      1            5.1           3.5            1.4           0.2   \n",
       "50    51            7.0           3.2            4.7           1.4   \n",
       "100  101            6.3           3.3            6.0           2.5   \n",
       "\n",
       "             Species  \n",
       "0        Iris-setosa  \n",
       "50   Iris-versicolor  \n",
       "100   Iris-virginica  "
      ]
     },
     "execution_count": 21,
     "metadata": {},
     "output_type": "execute_result"
    }
   ],
   "source": [
    "#to check if there is any duplicates in data\n",
    "info = df.drop_duplicates(subset =\"Species\",)\n",
    "info"
   ]
  },
  {
   "cell_type": "markdown",
   "id": "2e46d845",
   "metadata": {},
   "source": [
    "We can see that there are only three unique species"
   ]
  },
  {
   "cell_type": "code",
   "execution_count": null,
   "id": "99f7335e",
   "metadata": {},
   "outputs": [],
   "source": [
    "#to check if the data is balanced or not\n",
    "#we will use Series.value_counts() function for that\n",
    "df.value_counts(\"Species\")"
   ]
  },
  {
   "cell_type": "markdown",
   "id": "a0c1fd89",
   "metadata": {},
   "source": [
    "here we can see that all the species contain the same amount of rows so we did not need to delete any entries"
   ]
  },
  {
   "cell_type": "markdown",
   "id": "2436e853",
   "metadata": {},
   "source": [
    "# Data Visualization"
   ]
  },
  {
   "cell_type": "markdown",
   "id": "15548783",
   "metadata": {},
   "source": [
    "let's visualize the number of occurrences of each species using a countplot. This plot will show us how many times each species appears in the dataset. Imagine it like a bar chart where the height of each bar represents how frequently a particular species shows up."
   ]
  },
  {
   "cell_type": "markdown",
   "id": "b9734266",
   "metadata": {},
   "source": [
    "We will use Matplotlib and Seaborn library for the data visualization"
   ]
  },
  {
   "cell_type": "code",
   "execution_count": 24,
   "id": "75dcb147",
   "metadata": {},
   "outputs": [
    {
     "data": {
      "image/png": "[encoded data removed]",
      "text/plain": [
       "<Figure size 640x480 with 1 Axes>"
      ]
     },
     "metadata": {},
     "output_type": "display_data"
    }
   ],
   "source": [
    "import matplotlib.pyplot as plt\n",
    "import seaborn as sea\n",
    "sea.countplot(x='Species', data=df, )\n",
    "plt.show()"
   ]
  },
  {
   "cell_type": "markdown",
   "id": "51f823d4",
   "metadata": {},
   "source": [
    " we will first check the relation between petal length and petal width"
   ]
  },
  {
   "cell_type": "code",
   "execution_count": 30,
   "id": "465ccff4",
   "metadata": {},
   "outputs": [
    {
     "data": {
      "image/png": "[encoded data removed]",
      "text/plain": [
       "<Figure size 640x480 with 1 Axes>"
      ]
     },
     "metadata": {},
     "output_type": "display_data"
    }
   ],
   "source": [
    "sea.scatterplot(x='PetalLengthCm', y='PetalWidthCm',hue='Species', data=df, )\n",
    "plt.show()"
   ]
  },
  {
   "cell_type": "markdown",
   "id": "6f548464",
   "metadata": {},
   "source": [
    "From the above plot we get that -"
   ]
  },
  {
   "cell_type": "markdown",
   "id": "f3698a4b",
   "metadata": {},
   "source": [
    "i) Virginica has the largest petal lengths and widths "
   ]
  },
  {
   "cell_type": "markdown",
   "id": "f829a67c",
   "metadata": {},
   "source": [
    "ii)Versicolor lies in the middle of the setosa and virginica species"
   ]
  },
  {
   "cell_type": "markdown",
   "id": "afe905c6",
   "metadata": {},
   "source": [
    "iii)Setosa has smaller petal lengths and widths"
   ]
  },
  {
   "cell_type": "markdown",
   "id": "c5204f94",
   "metadata": {},
   "source": [
    "Now we will Compare Sepal Length and Sepal Width"
   ]
  },
  {
   "cell_type": "code",
   "execution_count": 37,
   "id": "ff21a4b8",
   "metadata": {},
   "outputs": [
    {
     "data": {
      "image/png": "[encoded data removed]",
      "text/plain": [
       "<Figure size 640x480 with 1 Axes>"
      ]
     },
     "metadata": {},
     "output_type": "display_data"
    }
   ],
   "source": [
    "sea.scatterplot(x='SepalLengthCm', y='SepalWidthCm',hue='Species', data=df, )\n",
    "plt.show()"
   ]
  },
  {
   "cell_type": "markdown",
   "id": "def796ca",
   "metadata": {},
   "source": [
    "From the above plot we get that -"
   ]
  },
  {
   "cell_type": "markdown",
   "id": "5e4d3a9c",
   "metadata": {},
   "source": [
    "i) Virginica has larger sepal lengths but smaller sepal widths."
   ]
  },
  {
   "cell_type": "markdown",
   "id": "d08a4210",
   "metadata": {},
   "source": [
    "ii) Versicolor lies in the middle of the setosa and virginica\n"
   ]
  },
  {
   "cell_type": "markdown",
   "id": "49f63a14",
   "metadata": {},
   "source": [
    "iii) Setosa has smaller sepal lengths but larger sepal widths.\n"
   ]
  },
  {
   "cell_type": "markdown",
   "id": "fbbd4455",
   "metadata": {},
   "source": [
    "# Histograms"
   ]
  },
  {
   "cell_type": "markdown",
   "id": "1108f63b",
   "metadata": {},
   "source": [
    "Histograms allow seeing the distribution of data for various columns. It can be used for uni as well as bi-variate analysis."
   ]
  },
  {
   "cell_type": "code",
   "execution_count": 55,
   "id": "9f7514d0",
   "metadata": {},
   "outputs": [
    {
     "data": {
      "image/png": "[encoded data removed]",
      "text/plain": [
       "<Figure size 800x800 with 4 Axes>"
      ]
     },
     "metadata": {},
     "output_type": "display_data"
    }
   ],
   "source": [
    "fig, axes = plt.subplots(2, 2, figsize=(8,8))\n",
    "\n",
    "axes[0,0].set_title(\"Sepal Length\")\n",
    "axes[0,0].hist(df['SepalLengthCm'], bins=7)\n",
    "\n",
    "axes[0,1].set_title(\"Sepal Width\")\n",
    "axes[0,1].hist(df['SepalWidthCm'], bins=5);\n",
    " \n",
    "axes[1,0].set_title(\"Petal Length\")\n",
    "axes[1,0].hist(df['PetalLengthCm'], bins=6);\n",
    " \n",
    "axes[1,1].set_title(\"Petal Width\")\n",
    "axes[1,1].hist(df['PetalWidthCm'], bins=6);"
   ]
  },
  {
   "cell_type": "markdown",
   "id": "6116fe59",
   "metadata": {},
   "source": [
    "From the above plot we get that -"
   ]
  },
  {
   "cell_type": "markdown",
   "id": "207770be",
   "metadata": {},
   "source": [
    "i) The highest frequency of the sepal length is between 30 and 35 which is between 5.5 and 6\n"
   ]
  },
  {
   "cell_type": "markdown",
   "id": "66bced3b",
   "metadata": {},
   "source": [
    "ii) The highest frequency of the sepal Width is around 70 which is between 3.0 and 3.5\n"
   ]
  },
  {
   "cell_type": "markdown",
   "id": "d3684271",
   "metadata": {},
   "source": [
    "iii) The highest frequency of the petal length is around 50 which is between 1 and 2\n"
   ]
  },
  {
   "cell_type": "markdown",
   "id": "8ea551d3",
   "metadata": {},
   "source": [
    "iv) The highest frequency of the petal width is between 40 and 50 which is between 0.0 and 0.5"
   ]
  },
  {
   "cell_type": "markdown",
   "id": "13a5e143",
   "metadata": {},
   "source": [
    "Handling Correlation -  to find the pairwise correlation of all columns in the dataframe we will use pandas. Any NA values are automatically excluded. For any non-numeric data type columns in the dataframe it is ignored."
   ]
  },
  {
   "cell_type": "code",
   "execution_count": 57,
   "id": "ddc219b2",
   "metadata": {},
   "outputs": [
    {
     "data": {
      "text/html": [
       "<div>\n",
       "<style scoped>\n",
       "    .dataframe tbody tr th:only-of-type {\n",
       "        vertical-align: middle;\n",
       "    }\n",
       "\n",
       "    .dataframe tbody tr th {\n",
       "        vertical-align: top;\n",
       "    }\n",
       "\n",
       "    .dataframe thead th {\n",
       "        text-align: right;\n",
       "    }\n",
       "</style>\n",
       "<table border=\"1\" class=\"dataframe\">\n",
       "  <thead>\n",
       "    <tr style=\"text-align: right;\">\n",
       "      <th></th>\n",
       "      <th>Id</th>\n",
       "      <th>SepalLengthCm</th>\n",
       "      <th>SepalWidthCm</th>\n",
       "      <th>PetalLengthCm</th>\n",
       "      <th>PetalWidthCm</th>\n",
       "    </tr>\n",
       "  </thead>\n",
       "  <tbody>\n",
       "    <tr>\n",
       "      <th>Id</th>\n",
       "      <td>1.000000</td>\n",
       "      <td>0.624413</td>\n",
       "      <td>-0.654654</td>\n",
       "      <td>0.969909</td>\n",
       "      <td>0.999685</td>\n",
       "    </tr>\n",
       "    <tr>\n",
       "      <th>SepalLengthCm</th>\n",
       "      <td>0.624413</td>\n",
       "      <td>1.000000</td>\n",
       "      <td>-0.999226</td>\n",
       "      <td>0.795795</td>\n",
       "      <td>0.643817</td>\n",
       "    </tr>\n",
       "    <tr>\n",
       "      <th>SepalWidthCm</th>\n",
       "      <td>-0.654654</td>\n",
       "      <td>-0.999226</td>\n",
       "      <td>1.000000</td>\n",
       "      <td>-0.818999</td>\n",
       "      <td>-0.673417</td>\n",
       "    </tr>\n",
       "    <tr>\n",
       "      <th>PetalLengthCm</th>\n",
       "      <td>0.969909</td>\n",
       "      <td>0.795795</td>\n",
       "      <td>-0.818999</td>\n",
       "      <td>1.000000</td>\n",
       "      <td>0.975713</td>\n",
       "    </tr>\n",
       "    <tr>\n",
       "      <th>PetalWidthCm</th>\n",
       "      <td>0.999685</td>\n",
       "      <td>0.643817</td>\n",
       "      <td>-0.673417</td>\n",
       "      <td>0.975713</td>\n",
       "      <td>1.000000</td>\n",
       "    </tr>\n",
       "  </tbody>\n",
       "</table>\n",
       "</div>"
      ],
      "text/plain": [
       "                     Id  SepalLengthCm  SepalWidthCm  PetalLengthCm  \\\n",
       "Id             1.000000       0.624413     -0.654654       0.969909   \n",
       "SepalLengthCm  0.624413       1.000000     -0.999226       0.795795   \n",
       "SepalWidthCm  -0.654654      -0.999226      1.000000      -0.818999   \n",
       "PetalLengthCm  0.969909       0.795795     -0.818999       1.000000   \n",
       "PetalWidthCm   0.999685       0.643817     -0.673417       0.975713   \n",
       "\n",
       "               PetalWidthCm  \n",
       "Id                 0.999685  \n",
       "SepalLengthCm      0.643817  \n",
       "SepalWidthCm      -0.673417  \n",
       "PetalLengthCm      0.975713  \n",
       "PetalWidthCm       1.000000  "
      ]
     },
     "execution_count": 57,
     "metadata": {},
     "output_type": "execute_result"
    }
   ],
   "source": [
    "data.corr(method='pearson')"
   ]
  },
  {
   "cell_type": "markdown",
   "id": "a17b9dab",
   "metadata": {},
   "source": [
    "we will make box plot now\n",
    " ,We can use boxplots to see how the categorical value os distributed with other numerical values.\n",
    "\n",
    "\n",
    " \n",
    " "
   ]
  },
  {
   "cell_type": "code",
   "execution_count": 78,
   "id": "8bdaa297",
   "metadata": {},
   "outputs": [
    {
     "data": {
      "image/png": "[encoded data removed]",
      "text/plain": [
       "<Figure size 1000x1000 with 1 Axes>"
      ]
     },
     "metadata": {},
     "output_type": "display_data"
    }
   ],
   "source": [
    "def graph(y):\n",
    "    sea.boxplot(x=\"Species\", y=y, data=df)\n",
    " \n",
    "plt.figure(figsize=(10,10))\n",
    "plt.subplot(221)\n",
    "graph('SepalLengthCm')"
   ]
  },
  {
   "cell_type": "code",
   "execution_count": 79,
   "id": "c1e40b99",
   "metadata": {},
   "outputs": [
    {
     "data": {
      "image/png": "[encoded data removed]",
      "text/plain": [
       "<Figure size 1000x1000 with 1 Axes>"
      ]
     },
     "metadata": {},
     "output_type": "display_data"
    }
   ],
   "source": [
    "plt.figure(figsize=(10,10))\n",
    "plt.subplot(222)\n",
    "graph('SepalWidthCm')"
   ]
  },
  {
   "cell_type": "code",
   "execution_count": 73,
   "id": "7b939922",
   "metadata": {},
   "outputs": [
    {
     "data": {
      "image/png": "[encoded data removed]",
      "text/plain": [
       "<Figure size 1000x1000 with 1 Axes>"
      ]
     },
     "metadata": {},
     "output_type": "display_data"
    }
   ],
   "source": [
    "plt.figure(figsize=(10,10))\n",
    "plt.subplot(223)\n",
    "graph('PetalLengthCm')"
   ]
  },
  {
   "cell_type": "code",
   "execution_count": 74,
   "id": "1eda2e44",
   "metadata": {},
   "outputs": [
    {
     "data": {
      "image/png": "[encoded data removed]",
      "text/plain": [
       "<Figure size 1000x1000 with 1 Axes>"
      ]
     },
     "metadata": {},
     "output_type": "display_data"
    }
   ],
   "source": [
    "plt.figure(figsize=(10,10))\n",
    "plt.subplot(224)\n",
    "graph('PetalWidthCm')\n",
    "plt.show()"
   ]
  },
  {
   "cell_type": "markdown",
   "id": "ca1ff46c",
   "metadata": {},
   "source": [
    "From above graphs we can see that -\n"
   ]
  },
  {
   "cell_type": "markdown",
   "id": "1769e620",
   "metadata": {},
   "source": [
    " a) Setosa has the smallest features and less distributed with some outliers.\n"
   ]
  },
  {
   "cell_type": "markdown",
   "id": "a799f9df",
   "metadata": {},
   "source": [
    "b) Versicolor has the average features.\n"
   ]
  },
  {
   "cell_type": "markdown",
   "id": "22d8981e",
   "metadata": {},
   "source": [
    "c) Virginica has the highest features\n"
   ]
  },
  {
   "cell_type": "markdown",
   "id": "902e01be",
   "metadata": {},
   "source": [
    "# Model Training"
   ]
  },
  {
   "cell_type": "markdown",
   "id": "8e38ba06",
   "metadata": {},
   "source": [
    "# Decision Tree"
   ]
  },
  {
   "cell_type": "code",
   "execution_count": 109,
   "id": "faf29f50",
   "metadata": {},
   "outputs": [],
   "source": [
    "import warnings\n",
    "warnings.filterwarnings('ignore')"
   ]
  },
  {
   "cell_type": "code",
   "execution_count": 110,
   "id": "7bbc2606",
   "metadata": {},
   "outputs": [
    {
     "name": "stdout",
     "output_type": "stream",
     "text": [
      "Populating the interactive namespace from numpy and matplotlib\n"
     ]
    }
   ],
   "source": [
    "import numpy as np\n",
    "import matplotlib.pyplot as plt\n",
    "\n",
    "from sklearn import datasets\n",
    "from sklearn.tree import DecisionTreeClassifier\n",
    "from sklearn import metrics #to calculate the accuracy of model\n",
    "%pylab inline \n",
    "%matplotlib inline"
   ]
  },
  {
   "cell_type": "markdown",
   "id": "67680416",
   "metadata": {},
   "source": [
    "# Apply on Iris Dataset"
   ]
  },
  {
   "cell_type": "code",
   "execution_count": 130,
   "id": "5a383632",
   "metadata": {},
   "outputs": [],
   "source": [
    " # load the iris datasets\n",
    "dataset = datasets.load_iris()\n",
    "df = pd.read_csv(\"iris.csv\")"
   ]
  },
  {
   "cell_type": "code",
   "execution_count": 132,
   "id": "2cba4659",
   "metadata": {},
   "outputs": [
    {
     "data": {
      "text/html": [
       "<div>\n",
       "<style scoped>\n",
       "    .dataframe tbody tr th:only-of-type {\n",
       "        vertical-align: middle;\n",
       "    }\n",
       "\n",
       "    .dataframe tbody tr th {\n",
       "        vertical-align: top;\n",
       "    }\n",
       "\n",
       "    .dataframe thead th {\n",
       "        text-align: right;\n",
       "    }\n",
       "</style>\n",
       "<table border=\"1\" class=\"dataframe\">\n",
       "  <thead>\n",
       "    <tr style=\"text-align: right;\">\n",
       "      <th></th>\n",
       "      <th>Id</th>\n",
       "      <th>SepalLengthCm</th>\n",
       "      <th>SepalWidthCm</th>\n",
       "      <th>PetalLengthCm</th>\n",
       "      <th>PetalWidthCm</th>\n",
       "      <th>Species</th>\n",
       "    </tr>\n",
       "  </thead>\n",
       "  <tbody>\n",
       "    <tr>\n",
       "      <th>0</th>\n",
       "      <td>1</td>\n",
       "      <td>5.1</td>\n",
       "      <td>3.5</td>\n",
       "      <td>1.4</td>\n",
       "      <td>0.2</td>\n",
       "      <td>Iris-setosa</td>\n",
       "    </tr>\n",
       "    <tr>\n",
       "      <th>1</th>\n",
       "      <td>2</td>\n",
       "      <td>4.9</td>\n",
       "      <td>3.0</td>\n",
       "      <td>1.4</td>\n",
       "      <td>0.2</td>\n",
       "      <td>Iris-setosa</td>\n",
       "    </tr>\n",
       "    <tr>\n",
       "      <th>2</th>\n",
       "      <td>3</td>\n",
       "      <td>4.7</td>\n",
       "      <td>3.2</td>\n",
       "      <td>1.3</td>\n",
       "      <td>0.2</td>\n",
       "      <td>Iris-setosa</td>\n",
       "    </tr>\n",
       "    <tr>\n",
       "      <th>3</th>\n",
       "      <td>4</td>\n",
       "      <td>4.6</td>\n",
       "      <td>3.1</td>\n",
       "      <td>1.5</td>\n",
       "      <td>0.2</td>\n",
       "      <td>Iris-setosa</td>\n",
       "    </tr>\n",
       "    <tr>\n",
       "      <th>4</th>\n",
       "      <td>5</td>\n",
       "      <td>5.0</td>\n",
       "      <td>3.6</td>\n",
       "      <td>1.4</td>\n",
       "      <td>0.2</td>\n",
       "      <td>Iris-setosa</td>\n",
       "    </tr>\n",
       "  </tbody>\n",
       "</table>\n",
       "</div>"
      ],
      "text/plain": [
       "   Id  SepalLengthCm  SepalWidthCm  PetalLengthCm  PetalWidthCm      Species\n",
       "0   1            5.1           3.5            1.4           0.2  Iris-setosa\n",
       "1   2            4.9           3.0            1.4           0.2  Iris-setosa\n",
       "2   3            4.7           3.2            1.3           0.2  Iris-setosa\n",
       "3   4            4.6           3.1            1.5           0.2  Iris-setosa\n",
       "4   5            5.0           3.6            1.4           0.2  Iris-setosa"
      ]
     },
     "execution_count": 132,
     "metadata": {},
     "output_type": "execute_result"
    }
   ],
   "source": [
    "df.head()"
   ]
  },
  {
   "cell_type": "code",
   "execution_count": 136,
   "id": "cf890e69",
   "metadata": {},
   "outputs": [
    {
     "data": {
      "text/plain": [
       "Iris-setosa        50\n",
       "Iris-versicolor    50\n",
       "Iris-virginica     50\n",
       "Name: Species, dtype: int64"
      ]
     },
     "execution_count": 136,
     "metadata": {},
     "output_type": "execute_result"
    }
   ],
   "source": [
    "df[\"Species\"].value_counts()"
   ]
  },
  {
   "cell_type": "code",
   "execution_count": 139,
   "id": "b26b4684",
   "metadata": {},
   "outputs": [
    {
     "data": {
      "text/plain": [
       "<seaborn.axisgrid.FacetGrid at 0x2db7448c0d0>"
      ]
     },
     "execution_count": 139,
     "metadata": {},
     "output_type": "execute_result"
    },
    {
     "data": {
      "image/png": "[encoded data removed]",
      "text/plain": [
       "<Figure size 743x600 with 1 Axes>"
      ]
     },
     "metadata": {},
     "output_type": "display_data"
    }
   ],
   "source": [
    "sea.FacetGrid(df, hue=\"Species\",size=6).map(plt.scatter, \"PetalLengthCm\",\"PetalWidthCm\").add_legend()"
   ]
  },
  {
   "cell_type": "markdown",
   "id": "0d935d34",
   "metadata": {},
   "source": [
    "after ploting the above graph we can conclude setosa that is blue is very separated and easily classifiable. Orange and green color dots which are of the versicolor and virginica respectively ,there is some mix between them. so we may not get 100% accuracy for versicolor and virginica but we can get 100% accuracy for setosa "
   ]
  },
  {
   "cell_type": "markdown",
   "id": "fc5b6439",
   "metadata": {},
   "source": [
    "Now we are going to use decision tree classifier and train this data and find out the accuracy"
   ]
  },
  {
   "cell_type": "markdown",
   "id": "7b85f504",
   "metadata": {},
   "source": [
    "# Iris Dataset"
   ]
  },
  {
   "cell_type": "code",
   "execution_count": 173,
   "id": "0926fadd",
   "metadata": {},
   "outputs": [
    {
     "name": "stdout",
     "output_type": "stream",
     "text": [
      "DecisionTreeClassifier(criterion='entropy', max_depth=3)\n"
     ]
    }
   ],
   "source": [
    "# fit a CART model to the data\n",
    "#model = DecisionTreeClassifier()\n",
    "model = DecisionTreeClassifier(criterion=\"entropy\",max_depth = 3)\n",
    "model.fit(iris.data,iris.target)\n",
    "print(model)"
   ]
  },
  {
   "cell_type": "markdown",
   "id": "cfe2a7d2",
   "metadata": {},
   "source": [
    "we are going to cut the tree after level 3"
   ]
  },
  {
   "cell_type": "code",
   "execution_count": 165,
   "id": "bc86c36c",
   "metadata": {},
   "outputs": [
    {
     "data": {
      "text/plain": [
       "0.9733333333333334"
      ]
     },
     "execution_count": 165,
     "metadata": {},
     "output_type": "execute_result"
    }
   ],
   "source": [
    "#to check the score of model there is function called as scode()\n",
    "model.score(iris.data,iris.target)"
   ]
  },
  {
   "cell_type": "markdown",
   "id": "90b72efa",
   "metadata": {},
   "source": [
    " decision tree has one disadvantage  that it has tendency to overfit so it is impportant to define the depth."
   ]
  },
  {
   "cell_type": "markdown",
   "id": "c0acee3e",
   "metadata": {},
   "source": [
    "# Make predictions "
   ]
  },
  {
   "cell_type": "code",
   "execution_count": 166,
   "id": "084a109d",
   "metadata": {},
   "outputs": [],
   "source": [
    "expected = dataset.target\n",
    "predicted = model.predict(dataset.data) "
   ]
  },
  {
   "cell_type": "markdown",
   "id": "2dc7327f",
   "metadata": {},
   "source": [
    "# Summarize the fit of the model "
   ]
  },
  {
   "cell_type": "code",
   "execution_count": 167,
   "id": "c1319465",
   "metadata": {},
   "outputs": [
    {
     "name": "stdout",
     "output_type": "stream",
     "text": [
      "              precision    recall  f1-score   support\n",
      "\n",
      "           0       1.00      1.00      1.00        50\n",
      "           1       0.98      0.94      0.96        50\n",
      "           2       0.94      0.98      0.96        50\n",
      "\n",
      "    accuracy                           0.97       150\n",
      "   macro avg       0.97      0.97      0.97       150\n",
      "weighted avg       0.97      0.97      0.97       150\n",
      "\n",
      "[[50  0  0]\n",
      " [ 0 47  3]\n",
      " [ 0  1 49]]\n"
     ]
    }
   ],
   "source": [
    "print(metrics.classification_report(expected, predicted))\n",
    "print(metrics.confusion_matrix(expected, predicted))"
   ]
  },
  {
   "cell_type": "markdown",
   "id": "1da6ec7c",
   "metadata": {},
   "source": [
    " we get precision 1 for setosa as we have already seen in the plot. where as we get some mixes in virsicolor and virginica , f1 score is 96\n",
    "    looking at confusion matrix we get more detail analysis , there are 3 flower which are virsicolor but classified as virginica , in below there is only one false classifier in virginica"
   ]
  },
  {
   "cell_type": "code",
   "execution_count": 168,
   "id": "2634ff67",
   "metadata": {},
   "outputs": [],
   "source": [
    " def Decision_Tree(Type,Depth):\n",
    "        # import some data to play with\n",
    "        iris = datasets.load_iris()\n",
    "        X = iris.data[:, :2]  # we only take the first two features.\n",
    "        Y = iris.target\n",
    "        h = .02  # step size in the mesh\n",
    "        # we create an instance of Neighbours Classifier and fit the data.\n",
    "        model =DecisionTreeClassifier(criterion=Type,max_depth=Depth)  \n",
    "                \n",
    "        model.fit(X, Y)\n",
    "        # Plot the decision boundary. For that, we will assign a color to each\n",
    "        # point in the mesh [x_min, m_max]x[y_min, y_max].\n",
    "        x_min, x_max = X[:, 0].min() - .5, X[:, 0].max() + .5\n",
    "        y_min, y_max = X[:, 1].min() - .5, X[:, 1].max() + .5\n",
    "        xx, yy = np.meshgrid(np.arange(x_min, x_max, h), np.arange(y_min, y_max, h))\n",
    "        Z = model.predict(np.c_[xx.ravel(), yy.ravel()])\n",
    "        \n",
    "        # Put the result into a color plot\n",
    "        Z = Z.reshape(xx.shape)\n",
    "        plt.figure(1, figsize=(4, 3))\n",
    "        plt.pcolormesh(xx, yy, Z, cmap=plt.cm.Paired)\n",
    "\n",
    "        # Plot also the training points\n",
    "        plt.scatter(X[:, 0], X[:, 1], c=Y, edgecolors='k', cmap=plt.cm.Paired)\n",
    "        plt.xlabel('Sepal length')\n",
    "        plt.ylabel('Sepal width')\n",
    "        plt.xlim(xx.min(), xx.max())\n",
    "        plt.ylim(yy.min(), yy.max())\n",
    "        plt.xticks(())\n",
    "        plt.yticks(())\n",
    "        plt.show()\n",
    "        \n",
    "        model.fit(dataset.data, dataset.target)\n",
    "        expected = dataset.target\n",
    "        predicted = model.predict(dataset.data)\n",
    "        print(metrics.classification_report(expected, predicted))\n",
    "        print(metrics.confusion_matrix(expected, predicted))"
   ]
  },
  {
   "cell_type": "code",
   "execution_count": 169,
   "id": "e1200ba0",
   "metadata": {},
   "outputs": [],
   "source": [
    " from IPython.html import widgets\n",
    "from IPython.html.widgets import interact\n",
    "from IPython.display import display"
   ]
  },
  {
   "cell_type": "code",
   "execution_count": 174,
   "id": "44af7944",
   "metadata": {},
   "outputs": [
    {
     "data": {
      "application/vnd.jupyter.widget-view+json": {
       "model_id": "1392c269f74648c08ba852b36883de2b",
       "version_major": 2,
       "version_minor": 0
      },
      "text/plain": [
       "interactive(children=(Text(value='entropy', description='Type'), IntSlider(value=5, description='Depth', max=1…"
      ]
     },
     "metadata": {},
     "output_type": "display_data"
    }
   ],
   "source": [
    "i = interact(Decision_Tree, Type=('entropy'),Depth=(1,10))"
   ]
  },
  {
   "cell_type": "markdown",
   "id": "976fb828",
   "metadata": {},
   "source": [
    "i have created demo by using some interactive libraries \n",
    "here i am using two parameters type and depth. we can use other also like gini."
   ]
  },
  {
   "cell_type": "markdown",
   "id": "0daeca77",
   "metadata": {},
   "source": [
    "As i have already done iris dataset analysis while learnig the ML so i did not find any difficulty in doing this task so i created demo model also to learn some thing new."
   ]
  },
  {
   "cell_type": "code",
   "execution_count": null,
   "id": "7a7c2284",
   "metadata": {},
   "outputs": [],
   "source": []
  }
 ],
 "metadata": {
  "kernelspec": {
   "display_name": "Python 3 (ipykernel)",
   "language": "python",
   "name": "python3"
  },
  "language_info": {
   "codemirror_mode": {
    "name": "ipython",
    "version": 3
   },
   "file_extension": ".py",
   "mimetype": "text/x-python",
   "name": "python",
   "nbconvert_exporter": "python",
   "pygments_lexer": "ipython3",
   "version": "3.9.13"
  }
 },
 "nbformat": 4,
 "nbformat_minor": 5
}
